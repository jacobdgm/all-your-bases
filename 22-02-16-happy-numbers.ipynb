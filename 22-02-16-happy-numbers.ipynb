{
 "cells": [
  {
   "cell_type": "code",
   "execution_count": 1,
   "id": "0de427c3",
   "metadata": {},
   "outputs": [],
   "source": [
    "from happynumbers import happy_step, happy_sequence, is_happy, exhaustive_search\n",
    "from bases import digits, integer, formatted\n",
    "import matplotlib.pyplot as plt"
   ]
  },
  {
   "cell_type": "code",
   "execution_count": 2,
   "id": "e67abd00",
   "metadata": {},
   "outputs": [
    {
     "name": "stdout",
     "output_type": "stream",
     "text": [
      "base: 60\r"
     ]
    }
   ],
   "source": [
    "counts = [0, 0]\n",
    "for base in range(2,  61):\n",
    "    print(\"base: {}\".format(base), end=\"\\r\")\n",
    "    counter = 0\n",
    "    for n in range(10_000):\n",
    "        if is_happy(n, base):\n",
    "            counter += 1\n",
    "    counts.append(counter)"
   ]
  },
  {
   "cell_type": "code",
   "execution_count": 3,
   "id": "78aaa555",
   "metadata": {},
   "outputs": [
    {
     "name": "stdout",
     "output_type": "stream",
     "text": [
      "0: 0\n",
      "1: 0\n",
      "2: 9999\n",
      "3: 1988\n",
      "4: 9999\n",
      "5: 2571\n",
      "6: 645\n",
      "7: 162\n",
      "8: 549\n",
      "9: 627\n",
      "10: 1441\n",
      "11: 196\n",
      "12: 24\n",
      "13: 582\n",
      "14: 93\n",
      "15: 164\n",
      "16: 2585\n",
      "17: 253\n",
      "18: 4154\n",
      "19: 3647\n",
      "20: 1616\n",
      "21: 45\n",
      "22: 17\n",
      "23: 19\n",
      "24: 9\n",
      "25: 519\n",
      "26: 377\n",
      "27: 279\n",
      "28: 6\n",
      "29: 1730\n",
      "30: 5265\n",
      "31: 11\n",
      "32: 11\n",
      "33: 84\n",
      "34: 192\n",
      "35: 77\n",
      "36: 50\n",
      "37: 58\n",
      "38: 18\n",
      "39: 26\n",
      "40: 139\n",
      "41: 850\n",
      "42: 66\n",
      "43: 10\n",
      "44: 5\n",
      "45: 58\n",
      "46: 59\n",
      "47: 5\n",
      "48: 4\n",
      "49: 9\n",
      "50: 42\n",
      "51: 48\n",
      "52: 31\n",
      "53: 62\n",
      "54: 10\n",
      "55: 106\n",
      "56: 5\n",
      "57: 5\n",
      "58: 61\n",
      "59: 33\n",
      "60: 27\n"
     ]
    }
   ],
   "source": [
    "labelled_counts = list(zip(range(61), counts))\n",
    "for a, b in labelled_counts:\n",
    "    print(\"{}: {}\".format(a, b))"
   ]
  },
  {
   "cell_type": "code",
   "execution_count": 4,
   "id": "2c290d9c",
   "metadata": {},
   "outputs": [
    {
     "ename": "NameError",
     "evalue": "name 'densities' is not defined",
     "output_type": "error",
     "traceback": [
      "\u001b[0;31m---------------------------------------------------------------------------\u001b[0m",
      "\u001b[0;31mNameError\u001b[0m                                 Traceback (most recent call last)",
      "\u001b[0;32m<ipython-input-4-0d644ea75da9>\u001b[0m in \u001b[0;36m<module>\u001b[0;34m\u001b[0m\n\u001b[0;32m----> 1\u001b[0;31m \u001b[0mplt\u001b[0m\u001b[0;34m.\u001b[0m\u001b[0mplot\u001b[0m\u001b[0;34m(\u001b[0m\u001b[0mrange\u001b[0m\u001b[0;34m(\u001b[0m\u001b[0;36m61\u001b[0m\u001b[0;34m)\u001b[0m\u001b[0;34m,\u001b[0m \u001b[0mdensities\u001b[0m\u001b[0;34m)\u001b[0m\u001b[0;34m\u001b[0m\u001b[0;34m\u001b[0m\u001b[0m\n\u001b[0m",
      "\u001b[0;31mNameError\u001b[0m: name 'densities' is not defined"
     ]
    }
   ],
   "source": [
    "plt.plot(range(61), densities)"
   ]
  },
  {
   "cell_type": "code",
   "execution_count": null,
   "id": "bb8c187f",
   "metadata": {},
   "outputs": [],
   "source": [
    "unhappy_bases = [b for b, n in labelled if n < 10][2:]\n",
    "print(unhappy_bases)"
   ]
  },
  {
   "cell_type": "code",
   "execution_count": null,
   "id": "6df14097",
   "metadata": {},
   "outputs": [],
   "source": [
    "exhaustive_search(range(100_000), unhappy_bases, \"unhappy_bases.txt\")"
   ]
  },
  {
   "cell_type": "code",
   "execution_count": null,
   "id": "054adb55",
   "metadata": {},
   "outputs": [],
   "source": [
    "exhaustive_search(range(1_000_000), [48], \"48.txt\")"
   ]
  }
 ],
 "metadata": {
  "kernelspec": {
   "display_name": "Python 3",
   "language": "python",
   "name": "python3"
  },
  "language_info": {
   "codemirror_mode": {
    "name": "ipython",
    "version": 3
   },
   "file_extension": ".py",
   "mimetype": "text/x-python",
   "name": "python",
   "nbconvert_exporter": "python",
   "pygments_lexer": "ipython3",
   "version": "3.9.4"
  }
 },
 "nbformat": 4,
 "nbformat_minor": 5
}
